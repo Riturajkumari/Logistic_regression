{
  "nbformat": 4,
  "nbformat_minor": 0,
  "metadata": {
    "colab": {
      "provenance": [],
      "authorship_tag": "ABX9TyPdjCZe9VUcGcYupKfZCDD3",
      "include_colab_link": true
    },
    "kernelspec": {
      "name": "python3",
      "display_name": "Python 3"
    },
    "language_info": {
      "name": "python"
    }
  },
  "cells": [
    {
      "cell_type": "markdown",
      "metadata": {
        "id": "view-in-github",
        "colab_type": "text"
      },
      "source": [
        "<a href=\"https://colab.research.google.com/github/Riturajkumari/Logistic_regression/blob/main/Logistics_Regression_3.ipynb\" target=\"_parent\"><img src=\"https://colab.research.google.com/assets/colab-badge.svg\" alt=\"Open In Colab\"/></a>"
      ]
    },
    {
      "cell_type": "markdown",
      "source": [
        "**Q1. Explain the concept of precision and recall in the context of classification models.**"
      ],
      "metadata": {
        "id": "m5ue5-EsIiLk"
      }
    },
    {
      "cell_type": "markdown",
      "source": [
        "- classification models, precision and recall are two important metrics used to evaluate the performance of a model. Precision is the fraction of true positives among all predicted positives. Recall is the fraction of true positives among all actual positives. "
      ],
      "metadata": {
        "id": "_jRldttqJ12Y"
      }
    },
    {
      "cell_type": "markdown",
      "source": [
        "-  Precision is defined as the fraction of relevant instances among all retrieved instances. Recall, sometimes referred to as ‘sensitivity, is the fraction of retrieved instances among all relevant instances. A perfect classifier has precision and recall both equal to 1.\n"
      ],
      "metadata": {
        "id": "0VGc0AHvKWt2"
      }
    },
    {
      "cell_type": "markdown",
      "source": [
        "Precision and Recall Formulas : TP/TP+FN\n",
        "\n",
        "\n",
        "Mathematical definition of precision: TP/TP+FP\n",
        "\n"
      ],
      "metadata": {
        "id": "MDI-OAMRKhwJ"
      }
    },
    {
      "cell_type": "code",
      "source": [],
      "metadata": {
        "id": "m7guwBe4IoeW"
      },
      "execution_count": null,
      "outputs": []
    },
    {
      "cell_type": "markdown",
      "source": [
        "**Q2. What is the F1 score and how is it calculated? How is it different from precision and recall?**"
      ],
      "metadata": {
        "id": "95MdqVzcIoso"
      }
    },
    {
      "cell_type": "markdown",
      "source": [
        "- F1 score is a measure that combines precision and recall, which are ratios of true positives, false positives, and false negatives.\n",
        "\n",
        "- F1 score gives the same weightage to recall and precision. It is calculated as the harmonic mean of precision and recall, not the arithmetic mean.\n",
        "\n",
        "- F1 score is good when both precision and recall are high, and it is bad when either of them is low\n",
        "\n",
        "-  calculate the F-score , \n",
        " F1= 2* Precision*Recall/Precision+recall\n"
      ],
      "metadata": {
        "id": "9d6zqsI4L38G"
      }
    },
    {
      "cell_type": "code",
      "source": [],
      "metadata": {
        "id": "orqh6k8YIq4_"
      },
      "execution_count": null,
      "outputs": []
    },
    {
      "cell_type": "markdown",
      "source": [
        "**Q3. What is ROC and AUC, and how are they used to evaluate the performance of classification models?**"
      ],
      "metadata": {
        "id": "0xZfQ5PdIrHU"
      }
    },
    {
      "cell_type": "markdown",
      "source": [
        "- An ROC (Receiver Operating Characteristic) curve measures the performance of a classification model by plotting the rate of true positives against false positives. ROC is short for receiver operating characteristic. AUC, short for area under the ROC curve, is the probability that a classifier will rank a randomly chosen positive instance higher than a randomly chosen negative one.\n"
      ],
      "metadata": {
        "id": "bulk22a0O1gJ"
      }
    },
    {
      "cell_type": "code",
      "source": [],
      "metadata": {
        "id": "jsi77z3mIvv6"
      },
      "execution_count": null,
      "outputs": []
    },
    {
      "cell_type": "markdown",
      "source": [
        "**Q4. How do you choose the best metric to evaluate the performance of a classification model?** \n",
        "What is multiclass classification and how is it different from binary classification?"
      ],
      "metadata": {
        "id": "2eoVWRRcIwB5"
      }
    },
    {
      "cell_type": "markdown",
      "source": [
        "- There are many ways to measure the performance of a classification model. Some of the most popular metrics include accuracy, confusion matrix, log-loss, and AUC-ROC.\n",
        "- Accuracy is a good way to evaluate classification models for balanced datasets.\n",
        "- However, if the data is imbalanced, other methods like ROC/AUC perform better in evaluating the model performance."
      ],
      "metadata": {
        "id": "oxl2-omJPSEe"
      }
    },
    {
      "cell_type": "markdown",
      "source": [
        "- Multiclass classification is a type of supervised machine learning problem that requires classifying data into three or more groups/categories. Unlike binary classification, where the model is only trained to predict one of the two classes for an item, a multiclass classifier is trained to predict one from three or more classes for an item. \n",
        "- For example, a multiclass classifier could be used to classify images of animals into different categories such as dogs, cats, and birds. The model would learn to identify certain features that are associated with each animal category."
      ],
      "metadata": {
        "id": "rIsaEALDQJC7"
      }
    },
    {
      "cell_type": "code",
      "source": [],
      "metadata": {
        "id": "CmJm88T3I9Y6"
      },
      "execution_count": null,
      "outputs": []
    },
    {
      "cell_type": "markdown",
      "source": [
        "**Q5. Explain how logistic regression can be used for multiclass classification.**"
      ],
      "metadata": {
        "id": "TuQ56xbGI9pF"
      }
    },
    {
      "cell_type": "markdown",
      "source": [
        "- Logistic regression is a statistical method used for binary classification problems. However, it can be extended to multiclass classification problems by using two different strategies: one-vs-rest and multinomial logistic regression.\n",
        "- In multinomial logistic regression, we use a single model to predict the probability of each class. The model learns a set of weights for each class and combines them with the input features to produce a score for each class"
      ],
      "metadata": {
        "id": "oycUZlyCQmDG"
      }
    },
    {
      "cell_type": "code",
      "source": [],
      "metadata": {
        "id": "bc0iV539JCQV"
      },
      "execution_count": null,
      "outputs": []
    },
    {
      "cell_type": "markdown",
      "source": [
        "**Q6. Describe the steps involved in an end-to-end project for multiclass classification.**"
      ],
      "metadata": {
        "id": "ygd0J9d9JCiY"
      }
    },
    {
      "cell_type": "markdown",
      "source": [
        "-  end-to-end project for multiclass classification:\n",
        "\n",
        "Dataset: Load the data. The dataset which we are going to use is available publicly, and it is quite a huge dataset.\n",
        "- Feature Engineering: Text processing. The text needs to be preprocessed so that we can feed it to the classification algorithm.\n",
        "- Exploring Multi-classification Models\n",
        "The classification models which we are using:\n",
        "\n",
        "Random Forest\n",
        "Linear Support Vector Machine\n",
        "Multinomial Naive Bayes\n",
        "Logistic Regression.\n",
        "- Classification Model performance\n",
        "- Compare Model performance\n",
        "- Evaluation\n",
        "- Prediction\n"
      ],
      "metadata": {
        "id": "_QHcbb5dRL04"
      }
    },
    {
      "cell_type": "code",
      "source": [],
      "metadata": {
        "id": "2XhzOFvzJJyu"
      },
      "execution_count": null,
      "outputs": []
    },
    {
      "cell_type": "markdown",
      "source": [
        "**Q7. What is model deployment and why is it important?**"
      ],
      "metadata": {
        "id": "ES-bFhExJKKh"
      }
    },
    {
      "cell_type": "markdown",
      "source": [
        "- Model deployment is the process of putting machine learning models into production. This makes the model’s predictions available to users, developers or systems, so they can make business decisions based on data, interact with their application (like recognize a face in an image) and so on."
      ],
      "metadata": {
        "id": "BR90l0VDSG8h"
      }
    },
    {
      "cell_type": "code",
      "source": [],
      "metadata": {
        "id": "W1acOWeeJOQM"
      },
      "execution_count": null,
      "outputs": []
    },
    {
      "cell_type": "markdown",
      "source": [
        "**Q8. Explain how multi-cloud platforms are used for model deployment.**"
      ],
      "metadata": {
        "id": "0MBKulDdJOjN"
      }
    },
    {
      "cell_type": "markdown",
      "source": [
        "- Multi cloud is the use of two or more cloud providers together, they might be public, private or a mix of both to achieve the organization’s goals. Basically it is the use of various types of cloud operators to have more features and increase their organization’s flexibility which also covers the disadvantages of the individual platforms. Companies prefer multi-cloud environments as they can distribute computing resources and minimize the risk of downtime and data loss.\n",
        "\n",
        "Multi cloud allows one organization to use most appropriate and most beneficial cloud options based on their business requirement that may be public or private cloud for each separate application.\n",
        "\n",
        "-  As multi cloud is a combination of multiple cloud vendors so there is no specific multi-cloud infrastructure vendor. Instead, it involves a mix of multiple cloud service providers i.e\n",
        "\n",
        "   - Amazon Web Services (AWS)\n",
        "    - Microsoft Azure\n",
        "   - Google cloud\n",
        "   - IBM\n",
        "   - Oracle etc."
      ],
      "metadata": {
        "id": "fquYn-BqSVDD"
      }
    },
    {
      "cell_type": "code",
      "source": [],
      "metadata": {
        "id": "9YzBiOcEJS3Q"
      },
      "execution_count": null,
      "outputs": []
    },
    {
      "cell_type": "markdown",
      "source": [
        "**Q9. Discuss the benefits and challenges of deploying machine learning models in a multi-cloud\n",
        "environment.**"
      ],
      "metadata": {
        "id": "KMATXSb2JTEW"
      }
    },
    {
      "cell_type": "markdown",
      "source": [
        "- Machine learning systems running in production are complex software systems that have to be main\u0002tained over time. This presents developers with another set of challenges, some of which are shared\n",
        "with running regular software services, and some are unique to ML.\n",
        "- Some of the challenges mentioned include lack of high quality telemetry\n",
        "data as well as no standard way to collect it, difficulty in acquiring labels which makes supervised\n",
        "learning approaches inapplicable3\n",
        "and lack of agreed best practices around handling of machine\n",
        "learning models. In this section, we discuss issues concerning three steps within model deployment:\n",
        "integration, monitoring and updating."
      ],
      "metadata": {
        "id": "hK0TNFQj2tHz"
      }
    },
    {
      "cell_type": "markdown",
      "source": [
        "- Integration:The model integration step constitutes of two main activities: building the infrastructure to run the\n",
        "model and implementing the model itself in a form that can be consumed and supported.\n",
        "- Monitoring\n",
        "Monitoring of evolving input data,\n",
        "prediction bias and overall performance of ML models is an open problem.\n",
        "-  Updating: updating\n",
        "Once the initial deployment of the model is completed, it is often necessary to be able to update\n",
        "the model later on in order to make sure it always reflects the most recent trends in data and the\n",
        "environment. There are multiple techniques for adapting models to a new data, including scheduled\n",
        "regular retraining and continual learning"
      ],
      "metadata": {
        "id": "q_WDGl4H3EVS"
      }
    }
  ]
}